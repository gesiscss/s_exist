{
 "cells": [
  {
   "cell_type": "code",
   "execution_count": 6,
   "id": "therapeutic-safety",
   "metadata": {},
   "outputs": [],
   "source": [
    "import pandas as pd"
   ]
  },
  {
   "cell_type": "code",
   "execution_count": 7,
   "id": "iraqi-meaning",
   "metadata": {},
   "outputs": [],
   "source": [
    "#!pip install deep-translator"
   ]
  },
  {
   "cell_type": "code",
   "execution_count": 8,
   "id": "advised-abraham",
   "metadata": {},
   "outputs": [],
   "source": [
    "DATA_ROOT = \"../../sexism/sexist_data/exist_shared_task/EXIST2021_dataset/\"\n",
    "datasets = ['training', 'test']"
   ]
  },
  {
   "cell_type": "code",
   "execution_count": 9,
   "id": "moderate-leather",
   "metadata": {},
   "outputs": [
    {
     "name": "stdout",
     "output_type": "stream",
     "text": [
      "Der Himmel ist blau und ich mag Bananen\n"
     ]
    }
   ],
   "source": [
    "# doesn't work after a few sentences, unfortunately doesn't throw an error either :(\n",
    "from googletrans import Translator\n",
    "translator = Translator()\n",
    "translation = translator.translate(\"Der Himmel ist blau und ich mag Bananen\", dest='en')\n",
    "print(translation.text)"
   ]
  },
  {
   "cell_type": "code",
   "execution_count": 10,
   "id": "stock-fireplace",
   "metadata": {},
   "outputs": [
    {
     "name": "stderr",
     "output_type": "stream",
     "text": [
      "/home/indira/anaconda3/envs/py36/lib/python3.6/site-packages/ipykernel_launcher.py:2: DeprecationWarning: deprecated. Use the translate_batch function instead\n",
      "  \n",
      "WARNING:root:deprecated. Use the translate_batch function instead\n"
     ]
    },
    {
     "data": {
      "text/plain": [
       "['ich hasse dich']"
      ]
     },
     "execution_count": 10,
     "metadata": {},
     "output_type": "execute_result"
    }
   ],
   "source": [
    "# try this instead: https://medium.com/analytics-vidhya/how-to-translate-text-with-python-9d203139dcf5\n",
    "from deep_translator import GoogleTranslator\n",
    "translated = GoogleTranslator(source='auto', target='de').translate_sentences(['I hate you'])\n",
    "translated"
   ]
  },
  {
   "cell_type": "code",
   "execution_count": 11,
   "id": "aggressive-holder",
   "metadata": {},
   "outputs": [],
   "source": [
    "def translate_data(data):\n",
    "    print(len(data))\n",
    "    english = data[data['language'] == 'en']\n",
    "    english['translated_text'] = english['text']\n",
    "    \n",
    "    spanish = data[data['language'] == 'es']\n",
    "    # translateds = translator.translate(list(data['text'].values))\n",
    "    translated = GoogleTranslator(source='es', target='en').translate_sentences(list(spanish['text'].values))\n",
    "    spanish['translated_text'] = translated\n",
    "    \n",
    "    data = english.append(spanish)\n",
    "    \n",
    "    return data"
   ]
  },
  {
   "cell_type": "code",
   "execution_count": 12,
   "id": "inappropriate-deadline",
   "metadata": {},
   "outputs": [
    {
     "name": "stderr",
     "output_type": "stream",
     "text": [
      "/home/indira/anaconda3/envs/py36/lib/python3.6/site-packages/ipykernel_launcher.py:4: SettingWithCopyWarning: \n",
      "A value is trying to be set on a copy of a slice from a DataFrame.\n",
      "Try using .loc[row_indexer,col_indexer] = value instead\n",
      "\n",
      "See the caveats in the documentation: https://pandas.pydata.org/pandas-docs/stable/user_guide/indexing.html#returning-a-view-versus-a-copy\n",
      "  after removing the cwd from sys.path.\n",
      "/home/indira/anaconda3/envs/py36/lib/python3.6/site-packages/ipykernel_launcher.py:8: DeprecationWarning: deprecated. Use the translate_batch function instead\n",
      "  \n",
      "WARNING:root:deprecated. Use the translate_batch function instead\n"
     ]
    },
    {
     "name": "stdout",
     "output_type": "stream",
     "text": [
      "6977\n"
     ]
    },
    {
     "name": "stderr",
     "output_type": "stream",
     "text": [
      "/home/indira/anaconda3/envs/py36/lib/python3.6/site-packages/ipykernel_launcher.py:9: SettingWithCopyWarning: \n",
      "A value is trying to be set on a copy of a slice from a DataFrame.\n",
      "Try using .loc[row_indexer,col_indexer] = value instead\n",
      "\n",
      "See the caveats in the documentation: https://pandas.pydata.org/pandas-docs/stable/user_guide/indexing.html#returning-a-view-versus-a-copy\n",
      "  if __name__ == '__main__':\n",
      "WARNING:root:deprecated. Use the translate_batch function instead\n"
     ]
    },
    {
     "name": "stdout",
     "output_type": "stream",
     "text": [
      "4368\n"
     ]
    }
   ],
   "source": [
    "for data in datasets:\n",
    "    dataset = pd.read_csv(DATA_ROOT + data + \"/EXIST2021_%s.tsv\" %(data), sep = \"\\t\")\n",
    "    translated_data = translate_data(dataset)\n",
    "    translated_data.to_csv(DATA_ROOT + data + \"/EXIST2021_translated_%s.tsv\" %(data), sep = \"\\t\", index = False)"
   ]
  },
  {
   "cell_type": "code",
   "execution_count": 21,
   "id": "coupled-burner",
   "metadata": {},
   "outputs": [],
   "source": [
    "data = 'training'\n",
    "translated = pd.read_csv(DATA_ROOT + data + \"/EXIST2021_translated_new_%s.tsv\" %(data), sep = \"\\t\")"
   ]
  },
  {
   "cell_type": "code",
   "execution_count": 23,
   "id": "dental-monitor",
   "metadata": {},
   "outputs": [
    {
     "data": {
      "text/plain": [
       "array([\"@Pablito_acosta A definition very similar to the discourse of current feminism, kills him for machismo, and if he kills another man? What if the woman is the one she kills? Is it female? Dress like it doesn't make sense\",\n",
       "       'Are there any masculinist references? If there are, did they write books on masculinism? I am considering reading references to liberal feminism and masculinism but I have not heard of masculinist books.',\n",
       "       'My first #earthquake and I shit like a bitch HAHAHAHAHAHA', ...,\n",
       "       'Gus_con_b Fuck daddy has been pissed off with the patrol. Maybe my dick is sweating.',\n",
       "       '@ygorayeb Good people do not abort, even if it is legal, they are the scum that most of the time they do not even know who the father is, the ones they want, I think we would do humanity a favor if we let them',\n",
       "       '@Srta__Santos And the worst thing she recognizes is that she is laughing at her ... the \"empowered woman\" .....'],\n",
       "      dtype=object)"
      ]
     },
     "execution_count": 23,
     "metadata": {},
     "output_type": "execute_result"
    }
   ],
   "source": [
    "translated[translated['language'] == 'es']['translated_text'].values"
   ]
  },
  {
   "cell_type": "code",
   "execution_count": null,
   "id": "headed-sphere",
   "metadata": {},
   "outputs": [],
   "source": []
  }
 ],
 "metadata": {
  "kernelspec": {
   "display_name": "Python [conda env:py36] *",
   "language": "python",
   "name": "conda-env-py36-py"
  },
  "language_info": {
   "codemirror_mode": {
    "name": "ipython",
    "version": 3
   },
   "file_extension": ".py",
   "mimetype": "text/x-python",
   "name": "python",
   "nbconvert_exporter": "python",
   "pygments_lexer": "ipython3",
   "version": "3.6.10"
  }
 },
 "nbformat": 4,
 "nbformat_minor": 5
}
