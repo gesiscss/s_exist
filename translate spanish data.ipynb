{
 "cells": [
  {
   "cell_type": "code",
   "execution_count": 1,
   "id": "existing-negative",
   "metadata": {},
   "outputs": [],
   "source": [
    "import pandas as pd"
   ]
  },
  {
   "cell_type": "code",
   "execution_count": 2,
   "id": "revised-freedom",
   "metadata": {},
   "outputs": [],
   "source": [
    "#!pip install translate-api"
   ]
  },
  {
   "cell_type": "code",
   "execution_count": 3,
   "id": "chief-cabinet",
   "metadata": {},
   "outputs": [],
   "source": [
    "DATA_ROOT = \"../../sexism/sexist_data/exist_shared_task/EXIST2021_dataset/\"\n",
    "datasets = ['training', 'test']"
   ]
  },
  {
   "cell_type": "code",
   "execution_count": 4,
   "id": "psychological-merchant",
   "metadata": {},
   "outputs": [
    {
     "name": "stdout",
     "output_type": "stream",
     "text": [
      "Der Himmel ist blau und ich mag Bananen\n"
     ]
    }
   ],
   "source": [
    "from googletrans import Translator\n",
    "translator = Translator()\n",
    "translation = translator.translate(\"Der Himmel ist blau und ich mag Bananen\", dest='en')\n",
    "print(translation.text)"
   ]
  },
  {
   "cell_type": "code",
   "execution_count": 7,
   "id": "confidential-expert",
   "metadata": {},
   "outputs": [],
   "source": [
    "def translate_data(data):\n",
    "    print(len(data))\n",
    "    data['translated_text'] = [translator.translate(row['text']).text if row['language'] == 'es' else row['text'] for n,row in data.iterrows()]\n",
    "    return data"
   ]
  },
  {
   "cell_type": "code",
   "execution_count": 9,
   "id": "heated-insider",
   "metadata": {},
   "outputs": [
    {
     "name": "stdout",
     "output_type": "stream",
     "text": [
      "6977\n",
      "4368\n"
     ]
    }
   ],
   "source": [
    "for data in datasets:\n",
    "    dataset = pd.read_csv(DATA_ROOT + data + \"/EXIST2021_%s.tsv\" %(data), sep = \"\\t\")\n",
    "    translated = translate_data(dataset)\n",
    "    translated.to_csv(DATA_ROOT + data + \"/EXIST2021_translated_%s.tsv\" %(data), sep = \"\\t\", index = False)"
   ]
  },
  {
   "cell_type": "code",
   "execution_count": null,
   "id": "restricted-charge",
   "metadata": {},
   "outputs": [],
   "source": []
  }
 ],
 "metadata": {
  "kernelspec": {
   "display_name": "Python [conda env:py36] *",
   "language": "python",
   "name": "conda-env-py36-py"
  },
  "language_info": {
   "codemirror_mode": {
    "name": "ipython",
    "version": 3
   },
   "file_extension": ".py",
   "mimetype": "text/x-python",
   "name": "python",
   "nbconvert_exporter": "python",
   "pygments_lexer": "ipython3",
   "version": "3.6.10"
  }
 },
 "nbformat": 4,
 "nbformat_minor": 5
}
